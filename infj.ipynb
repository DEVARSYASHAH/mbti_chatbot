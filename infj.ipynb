{
 "cells": [
  {
   "cell_type": "code",
   "execution_count": 14,
   "metadata": {},
   "outputs": [],
   "source": [
    "import mysql.connector\n",
    "import pandas as pd\n",
    "\n",
    "from config import *\n"
   ]
  },
  {
   "cell_type": "markdown",
   "metadata": {},
   "source": [
    "[Chatterbot](https://chatterbot.readthedocs.io/en/stable/)"
   ]
  },
  {
   "cell_type": "code",
   "execution_count": 11,
   "metadata": {},
   "outputs": [],
   "source": [
    "reddit_db = mysql.connector.connect(\n",
    "    host=HOST, user=USER, password=PASSWORD, database=DATABASE_NAME\n",
    ")\n",
    "\n",
    "cursor = reddit_db.cursor()\n"
   ]
  },
  {
   "cell_type": "code",
   "execution_count": 12,
   "metadata": {},
   "outputs": [],
   "source": [
    "cursor.execute(\"select * from comments\")\n",
    "comments = cursor.fetchall()\n"
   ]
  },
  {
   "cell_type": "code",
   "execution_count": 20,
   "metadata": {},
   "outputs": [
    {
     "data": {
      "text/html": [
       "<div>\n",
       "<style scoped>\n",
       "    .dataframe tbody tr th:only-of-type {\n",
       "        vertical-align: middle;\n",
       "    }\n",
       "\n",
       "    .dataframe tbody tr th {\n",
       "        vertical-align: top;\n",
       "    }\n",
       "\n",
       "    .dataframe thead th {\n",
       "        text-align: right;\n",
       "    }\n",
       "</style>\n",
       "<table border=\"1\" class=\"dataframe\">\n",
       "  <thead>\n",
       "    <tr style=\"text-align: right;\">\n",
       "      <th></th>\n",
       "      <th>id</th>\n",
       "      <th>comment_body</th>\n",
       "      <th>post_id</th>\n",
       "    </tr>\n",
       "  </thead>\n",
       "  <tbody>\n",
       "    <tr>\n",
       "      <th>0</th>\n",
       "      <td>c2aijol</td>\n",
       "      <td>Hi :)</td>\n",
       "      <td>jakow</td>\n",
       "    </tr>\n",
       "    <tr>\n",
       "      <th>1</th>\n",
       "      <td>c2ajzfx</td>\n",
       "      <td>Hello. :-)</td>\n",
       "      <td>jakow</td>\n",
       "    </tr>\n",
       "    <tr>\n",
       "      <th>2</th>\n",
       "      <td>c2alar5</td>\n",
       "      <td>Yo.</td>\n",
       "      <td>jakow</td>\n",
       "    </tr>\n",
       "    <tr>\n",
       "      <th>3</th>\n",
       "      <td>c2as1xl</td>\n",
       "      <td>So there ARE other INFJs...</td>\n",
       "      <td>jakow</td>\n",
       "    </tr>\n",
       "    <tr>\n",
       "      <th>4</th>\n",
       "      <td>c2awjx5</td>\n",
       "      <td>Indeed. :-)</td>\n",
       "      <td>jakow</td>\n",
       "    </tr>\n",
       "    <tr>\n",
       "      <th>...</th>\n",
       "      <td>...</td>\n",
       "      <td>...</td>\n",
       "      <td>...</td>\n",
       "    </tr>\n",
       "    <tr>\n",
       "      <th>852542</th>\n",
       "      <td>imu7dks</td>\n",
       "      <td>Solid advice 👌</td>\n",
       "      <td>kovz1w</td>\n",
       "    </tr>\n",
       "    <tr>\n",
       "      <th>852543</th>\n",
       "      <td>imua6hj</td>\n",
       "      <td>And break dances in class during recess</td>\n",
       "      <td>3dqcuh</td>\n",
       "    </tr>\n",
       "    <tr>\n",
       "      <th>852544</th>\n",
       "      <td>imuc4u1</td>\n",
       "      <td>...same. The number of men (all different pers...</td>\n",
       "      <td>wrox2e</td>\n",
       "    </tr>\n",
       "    <tr>\n",
       "      <th>852545</th>\n",
       "      <td>imuuh7u</td>\n",
       "      <td>Don't go there. I know it. I was at a wedding ...</td>\n",
       "      <td>wuym9a</td>\n",
       "    </tr>\n",
       "    <tr>\n",
       "      <th>852546</th>\n",
       "      <td>imuxj37</td>\n",
       "      <td>Glad you found a way to deal with the situatio...</td>\n",
       "      <td>wuym9a</td>\n",
       "    </tr>\n",
       "  </tbody>\n",
       "</table>\n",
       "<p>852547 rows × 3 columns</p>\n",
       "</div>"
      ],
      "text/plain": [
       "             id                                       comment_body post_id\n",
       "0       c2aijol                                              Hi :)   jakow\n",
       "1       c2ajzfx                                         Hello. :-)   jakow\n",
       "2       c2alar5                                               Yo.    jakow\n",
       "3       c2as1xl                       So there ARE other INFJs...    jakow\n",
       "4       c2awjx5                                        Indeed. :-)   jakow\n",
       "...         ...                                                ...     ...\n",
       "852542  imu7dks                                     Solid advice 👌  kovz1w\n",
       "852543  imua6hj            And break dances in class during recess  3dqcuh\n",
       "852544  imuc4u1  ...same. The number of men (all different pers...  wrox2e\n",
       "852545  imuuh7u  Don't go there. I know it. I was at a wedding ...  wuym9a\n",
       "852546  imuxj37  Glad you found a way to deal with the situatio...  wuym9a\n",
       "\n",
       "[852547 rows x 3 columns]"
      ]
     },
     "execution_count": 20,
     "metadata": {},
     "output_type": "execute_result"
    }
   ],
   "source": [
    "pd.DataFrame(\n",
    "    comments, columns=[\"id\", \"comment_body\", \"post_id\", \"comment_timestamp\"]\n",
    ").drop(columns=[\"comment_timestamp\"])\n"
   ]
  },
  {
   "cell_type": "code",
   "execution_count": 22,
   "metadata": {},
   "outputs": [],
   "source": [
    "cursor.execute(\"select * from posts\")\n",
    "posts = cursor.fetchall()"
   ]
  },
  {
   "cell_type": "code",
   "execution_count": 26,
   "metadata": {},
   "outputs": [
    {
     "data": {
      "text/html": [
       "<div>\n",
       "<style scoped>\n",
       "    .dataframe tbody tr th:only-of-type {\n",
       "        vertical-align: middle;\n",
       "    }\n",
       "\n",
       "    .dataframe tbody tr th {\n",
       "        vertical-align: top;\n",
       "    }\n",
       "\n",
       "    .dataframe thead th {\n",
       "        text-align: right;\n",
       "    }\n",
       "</style>\n",
       "<table border=\"1\" class=\"dataframe\">\n",
       "  <thead>\n",
       "    <tr style=\"text-align: right;\">\n",
       "      <th></th>\n",
       "      <th>post_id</th>\n",
       "      <th>post_title</th>\n",
       "      <th>post_body</th>\n",
       "      <th>subreddit_name</th>\n",
       "    </tr>\n",
       "  </thead>\n",
       "  <tbody>\n",
       "    <tr>\n",
       "      <th>0</th>\n",
       "      <td>100e0h</td>\n",
       "      <td>Getting INFJs to open up in conversation</td>\n",
       "      <td>(INFP here) I know a few INFJs, and I think th...</td>\n",
       "      <td>infj</td>\n",
       "    </tr>\n",
       "    <tr>\n",
       "      <th>1</th>\n",
       "      <td>100ea5</td>\n",
       "      <td>Are INFJs more prone to have bad tempers/anger...</td>\n",
       "      <td>For me (an INFJ) my bad temper is probably rel...</td>\n",
       "      <td>infj</td>\n",
       "    </tr>\n",
       "    <tr>\n",
       "      <th>2</th>\n",
       "      <td>100f6t</td>\n",
       "      <td>I'm an ENFP guy starting a relationship with a...</td>\n",
       "      <td>She's older than me too. I don't know much abo...</td>\n",
       "      <td>infj</td>\n",
       "    </tr>\n",
       "    <tr>\n",
       "      <th>3</th>\n",
       "      <td>101zl3</td>\n",
       "      <td>Career</td>\n",
       "      <td>I am wondering if this is an infj thing? I fin...</td>\n",
       "      <td>infj</td>\n",
       "    </tr>\n",
       "    <tr>\n",
       "      <th>4</th>\n",
       "      <td>102101</td>\n",
       "      <td>How and when did you find out what job/career ...</td>\n",
       "      <td>I'm 21/m and have tried three study programs s...</td>\n",
       "      <td>infj</td>\n",
       "    </tr>\n",
       "    <tr>\n",
       "      <th>...</th>\n",
       "      <td>...</td>\n",
       "      <td>...</td>\n",
       "      <td>...</td>\n",
       "      <td>...</td>\n",
       "    </tr>\n",
       "    <tr>\n",
       "      <th>69351</th>\n",
       "      <td>zw4az</td>\n",
       "      <td>I'm terrible at bowling, can I blame this on m...</td>\n",
       "      <td>Because I'm going to. Seriously, what the fuck...</td>\n",
       "      <td>infj</td>\n",
       "    </tr>\n",
       "    <tr>\n",
       "      <th>69352</th>\n",
       "      <td>zxc3d</td>\n",
       "      <td>Am I an INFJ or an ENFJ?</td>\n",
       "      <td>Thinking a bit more into myself, I've always b...</td>\n",
       "      <td>infj</td>\n",
       "    </tr>\n",
       "    <tr>\n",
       "      <th>69353</th>\n",
       "      <td>zxrg5</td>\n",
       "      <td>INFJ's are Artists!</td>\n",
       "      <td>This thought has been bouncing in my head for ...</td>\n",
       "      <td>infj</td>\n",
       "    </tr>\n",
       "    <tr>\n",
       "      <th>69354</th>\n",
       "      <td>zy3i8</td>\n",
       "      <td>How needy can you get?</td>\n",
       "      <td>When I'm not as self-organized as I want, I ca...</td>\n",
       "      <td>infj</td>\n",
       "    </tr>\n",
       "    <tr>\n",
       "      <th>69355</th>\n",
       "      <td>zyyyh</td>\n",
       "      <td>Does the monologue at the end of Blade Runner ...</td>\n",
       "      <td></td>\n",
       "      <td>infj</td>\n",
       "    </tr>\n",
       "  </tbody>\n",
       "</table>\n",
       "<p>69356 rows × 4 columns</p>\n",
       "</div>"
      ],
      "text/plain": [
       "      post_id                                         post_title  \\\n",
       "0      100e0h           Getting INFJs to open up in conversation   \n",
       "1      100ea5  Are INFJs more prone to have bad tempers/anger...   \n",
       "2      100f6t  I'm an ENFP guy starting a relationship with a...   \n",
       "3      101zl3                                             Career   \n",
       "4      102101  How and when did you find out what job/career ...   \n",
       "...       ...                                                ...   \n",
       "69351   zw4az  I'm terrible at bowling, can I blame this on m...   \n",
       "69352   zxc3d                           Am I an INFJ or an ENFJ?   \n",
       "69353   zxrg5                                INFJ's are Artists!   \n",
       "69354   zy3i8                             How needy can you get?   \n",
       "69355   zyyyh  Does the monologue at the end of Blade Runner ...   \n",
       "\n",
       "                                               post_body subreddit_name  \n",
       "0      (INFP here) I know a few INFJs, and I think th...           infj  \n",
       "1      For me (an INFJ) my bad temper is probably rel...           infj  \n",
       "2      She's older than me too. I don't know much abo...           infj  \n",
       "3      I am wondering if this is an infj thing? I fin...           infj  \n",
       "4      I'm 21/m and have tried three study programs s...           infj  \n",
       "...                                                  ...            ...  \n",
       "69351  Because I'm going to. Seriously, what the fuck...           infj  \n",
       "69352  Thinking a bit more into myself, I've always b...           infj  \n",
       "69353  This thought has been bouncing in my head for ...           infj  \n",
       "69354  When I'm not as self-organized as I want, I ca...           infj  \n",
       "69355                                                              infj  \n",
       "\n",
       "[69356 rows x 4 columns]"
      ]
     },
     "execution_count": 26,
     "metadata": {},
     "output_type": "execute_result"
    }
   ],
   "source": [
    "pd.DataFrame(\n",
    "    posts, columns=[\"post_id\", \"post_title\", \"post_body\", \"subreddit_name\", \"timestamp\"]\n",
    ").drop(columns = [\"timestamp\"])\n"
   ]
  },
  {
   "cell_type": "markdown",
   "metadata": {},
   "source": [
    "__Chatbot__"
   ]
  },
  {
   "cell_type": "markdown",
   "metadata": {},
   "source": [
    "[LIFE SAVER](https://github.com/gunthercox/ChatterBot/issues/2262#issuecomment-1210893149)"
   ]
  },
  {
   "cell_type": "code",
   "execution_count": 1,
   "metadata": {},
   "outputs": [],
   "source": [
    "from chatterbot import ChatBot\n",
    "from chatterbot.trainers import ChatterBotCorpusTrainer"
   ]
  },
  {
   "cell_type": "code",
   "execution_count": 2,
   "metadata": {},
   "outputs": [],
   "source": [
    "infj = ChatBot(\"INFJ\")"
   ]
  },
  {
   "cell_type": "code",
   "execution_count": 4,
   "metadata": {},
   "outputs": [
    {
     "name": "stdout",
     "output_type": "stream",
     "text": [
      "Training ai.yml: [####################] 100%\n",
      "Training botprofile.yml: [####################] 100%\n",
      "Training computers.yml: [####################] 100%\n",
      "Training conversations.yml: [####################] 100%\n",
      "Training emotion.yml: [####################] 100%\n",
      "Training food.yml: [####################] 100%\n",
      "Training gossip.yml: [####################] 100%\n",
      "Training greetings.yml: [####################] 100%\n",
      "Training health.yml: [####################] 100%\n",
      "Training history.yml: [####################] 100%\n",
      "Training humor.yml: [####################] 100%\n",
      "Training literature.yml: [####################] 100%\n",
      "Training money.yml: [####################] 100%\n",
      "Training movies.yml: [####################] 100%\n",
      "Training politics.yml: [####################] 100%\n",
      "Training psychology.yml: [####################] 100%\n",
      "Training science.yml: [####################] 100%\n",
      "Training sports.yml: [####################] 100%\n",
      "Training trivia.yml: [####################] 100%\n"
     ]
    }
   ],
   "source": [
    "trainer = ChatterBotCorpusTrainer(infj)\n",
    "\n",
    "trainer.train(\n",
    "    \"chatterbot.corpus.english\"\n",
    ")"
   ]
  }
 ],
 "metadata": {
  "kernelspec": {
   "display_name": "Python 3.10.4 ('venv': venv)",
   "language": "python",
   "name": "python3"
  },
  "language_info": {
   "codemirror_mode": {
    "name": "ipython",
    "version": 3
   },
   "file_extension": ".py",
   "mimetype": "text/x-python",
   "name": "python",
   "nbconvert_exporter": "python",
   "pygments_lexer": "ipython3",
   "version": "3.10.4"
  },
  "orig_nbformat": 4,
  "vscode": {
   "interpreter": {
    "hash": "00c67820b7d72a30314bee0564e50612da1fd84066a8050196c9ec5062f6fe40"
   }
  }
 },
 "nbformat": 4,
 "nbformat_minor": 2
}
